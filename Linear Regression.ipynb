{
 "cells": [
  {
   "cell_type": "markdown",
   "metadata": {},
   "source": [
    "<h1 style='text-align: center; font-size: 38px; font-weight: bold; color: #a53860;'> Linear Regression </h1>\n",
    "\n",
    "<p style='text-align: center; color: #212121;'> This notebook aims to be a place where I can practice Deep Learning with Pythorch in a pratical way. I'll be implementing a Linear Regression model. </p>"
   ]
  },
  {
   "cell_type": "markdown",
   "metadata": {},
   "source": [
    "<h3 style='color: #da627d; text-align: center;'> Setting Up </h3>"
   ]
  },
  {
   "cell_type": "code",
   "execution_count": 221,
   "metadata": {},
   "outputs": [
    {
     "name": "stdout",
     "output_type": "stream",
     "text": [
      "\u001b[33mWARNING: Running pip as the 'root' user can result in broken permissions and conflicting behaviour with the system package manager. It is recommended to use a virtual environment instead: https://pip.pypa.io/warnings/venv\u001b[0m\u001b[33m\n",
      "\u001b[0mNote: you may need to restart the kernel to use updated packages.\n"
     ]
    }
   ],
   "source": [
    "%pip install loguru --quiet"
   ]
  },
  {
   "cell_type": "code",
   "execution_count": 222,
   "metadata": {},
   "outputs": [
    {
     "name": "stderr",
     "output_type": "stream",
     "text": [
      "\u001b[32m2023-08-13 16:58:10.177\u001b[0m | \u001b[32m\u001b[1mSUCCESS \u001b[0m | \u001b[36m__main__\u001b[0m:\u001b[36m<module>\u001b[0m:\u001b[36m23\u001b[0m - \u001b[32m\u001b[1mDataframe generated successfully with a length of 1000.\u001b[0m\n"
     ]
    }
   ],
   "source": [
    "\n",
    "from sklearn.model_selection import train_test_split\n",
    "from sklearn.preprocessing import MinMaxScaler\n",
    "import matplotlib.pyplot as plt\n",
    "from loguru import logger\n",
    "from tqdm import tqdm\n",
    "import seaborn as sns\n",
    "from torch import nn\n",
    "import pandas as pd\n",
    "import numpy as np\n",
    "import torch\n",
    "\n",
    "%matplotlib inline\n",
    "\n",
    "train = pd.read_csv('./data/train.csv')\n",
    "test = pd.read_csv('./data/test.csv')\n",
    "\n",
    "df = pd.concat([test, train], axis=0, ignore_index=True)\n",
    "\n",
    "if len(df) != len(train) + len(test):\n",
    "  logger.error('There is a problem with the dataframe length.')\n",
    "  raise ValueError('train and test are not the same length')\n",
    "else:\n",
    "  logger.success('Dataframe generated successfully with a length of {}.'.format(len(df)))"
   ]
  },
  {
   "cell_type": "markdown",
   "metadata": {},
   "source": [
    "<h3 style='color: #da627d; text-align: center;'> Quick EDA </h3>"
   ]
  },
  {
   "cell_type": "code",
   "execution_count": 223,
   "metadata": {},
   "outputs": [
    {
     "name": "stdout",
     "output_type": "stream",
     "text": [
      "<class 'pandas.core.frame.DataFrame'>\n",
      "RangeIndex: 1000 entries, 0 to 999\n",
      "Data columns (total 2 columns):\n",
      " #   Column  Non-Null Count  Dtype  \n",
      "---  ------  --------------  -----  \n",
      " 0   x       1000 non-null   float64\n",
      " 1   y       999 non-null    float64\n",
      "dtypes: float64(2)\n",
      "memory usage: 15.8 KB\n"
     ]
    }
   ],
   "source": [
    "df.info()"
   ]
  },
  {
   "cell_type": "code",
   "execution_count": 224,
   "metadata": {},
   "outputs": [
    {
     "data": {
      "text/html": [
       "<div>\n",
       "<style scoped>\n",
       "    .dataframe tbody tr th:only-of-type {\n",
       "        vertical-align: middle;\n",
       "    }\n",
       "\n",
       "    .dataframe tbody tr th {\n",
       "        vertical-align: top;\n",
       "    }\n",
       "\n",
       "    .dataframe thead th {\n",
       "        text-align: right;\n",
       "    }\n",
       "</style>\n",
       "<table border=\"1\" class=\"dataframe\">\n",
       "  <thead>\n",
       "    <tr style=\"text-align: right;\">\n",
       "      <th></th>\n",
       "      <th>count</th>\n",
       "      <th>mean</th>\n",
       "      <th>std</th>\n",
       "      <th>min</th>\n",
       "      <th>25%</th>\n",
       "      <th>50%</th>\n",
       "      <th>75%</th>\n",
       "      <th>max</th>\n",
       "    </tr>\n",
       "  </thead>\n",
       "  <tbody>\n",
       "    <tr>\n",
       "      <th>x</th>\n",
       "      <td>1000.0</td>\n",
       "      <td>53.771157</td>\n",
       "      <td>113.747929</td>\n",
       "      <td>0.0</td>\n",
       "      <td>25.0</td>\n",
       "      <td>50.0</td>\n",
       "      <td>75.0</td>\n",
       "      <td>3530.157369</td>\n",
       "    </tr>\n",
       "  </tbody>\n",
       "</table>\n",
       "</div>"
      ],
      "text/plain": [
       "    count       mean         std  min   25%   50%   75%          max\n",
       "x  1000.0  53.771157  113.747929  0.0  25.0  50.0  75.0  3530.157369"
      ]
     },
     "metadata": {},
     "output_type": "display_data"
    },
    {
     "data": {
      "text/html": [
       "<div>\n",
       "<style scoped>\n",
       "    .dataframe tbody tr th:only-of-type {\n",
       "        vertical-align: middle;\n",
       "    }\n",
       "\n",
       "    .dataframe tbody tr th {\n",
       "        vertical-align: top;\n",
       "    }\n",
       "\n",
       "    .dataframe thead th {\n",
       "        text-align: right;\n",
       "    }\n",
       "</style>\n",
       "<table border=\"1\" class=\"dataframe\">\n",
       "  <thead>\n",
       "    <tr style=\"text-align: right;\">\n",
       "      <th></th>\n",
       "      <th>count</th>\n",
       "      <th>mean</th>\n",
       "      <th>std</th>\n",
       "      <th>min</th>\n",
       "      <th>25%</th>\n",
       "      <th>50%</th>\n",
       "      <th>75%</th>\n",
       "      <th>max</th>\n",
       "    </tr>\n",
       "  </thead>\n",
       "  <tbody>\n",
       "    <tr>\n",
       "      <th>y</th>\n",
       "      <td>999.0</td>\n",
       "      <td>50.319804</td>\n",
       "      <td>29.089111</td>\n",
       "      <td>-3.839981</td>\n",
       "      <td>25.18543</td>\n",
       "      <td>49.926397</td>\n",
       "      <td>74.475252</td>\n",
       "      <td>108.871618</td>\n",
       "    </tr>\n",
       "  </tbody>\n",
       "</table>\n",
       "</div>"
      ],
      "text/plain": [
       "   count       mean        std       min       25%        50%        75%  \\\n",
       "y  999.0  50.319804  29.089111 -3.839981  25.18543  49.926397  74.475252   \n",
       "\n",
       "          max  \n",
       "y  108.871618  "
      ]
     },
     "metadata": {},
     "output_type": "display_data"
    }
   ],
   "source": [
    "display(pd.DataFrame(df.x.describe()).T)\n",
    "display(pd.DataFrame(df.y.describe()).T)"
   ]
  },
  {
   "cell_type": "code",
   "execution_count": 225,
   "metadata": {},
   "outputs": [],
   "source": [
    "df.y = df.y.fillna(df.y.mean())"
   ]
  },
  {
   "cell_type": "code",
   "execution_count": 226,
   "metadata": {},
   "outputs": [
    {
     "data": {
      "image/png": "[encoded data removed]",
      "text/plain": [
       "<Figure size 1000x400 with 2 Axes>"
      ]
     },
     "metadata": {},
     "output_type": "display_data"
    },
    {
     "data": {
      "text/plain": [
       "<Figure size 400x350 with 0 Axes>"
      ]
     },
     "metadata": {},
     "output_type": "display_data"
    }
   ],
   "source": [
    "fig, (ax1, ax2) = plt.subplots(1, 2, figsize=(10, 4))\n",
    "\n",
    "plt.figure(figsize=(4, 3.5))\n",
    "fig.patch.set_facecolor('#e6e8e6')\n",
    "\n",
    "ax1.scatter(train['x'], train['y'], color='#31572c', s=1)\n",
    "ax1.set_title('Training data')\n",
    "ax1.set_xlabel('x-axis')\n",
    "ax1.set_ylabel('y-axis')\n",
    "\n",
    "ax2.scatter(test['x'], test['y'], color='#4f772d', s=1)\n",
    "ax2.set_title('Testing data')\n",
    "ax2.set_xlabel('x-axis')\n",
    "ax2.set_ylabel('y-axis')\n",
    "\n",
    "plt.tight_layout()\n",
    "plt.show()"
   ]
  },
  {
   "cell_type": "code",
   "execution_count": 227,
   "metadata": {},
   "outputs": [
    {
     "data": {
      "image/png": "[encoded data removed]",
      "text/plain": [
       "<Figure size 400x350 with 1 Axes>"
      ]
     },
     "metadata": {},
     "output_type": "display_data"
    }
   ],
   "source": [
    "plt.figure(figsize=(4, 3.5))\n",
    "\n",
    "fig = plt.gcf()\n",
    "fig.patch.set_facecolor('#e6e8e6')\n",
    "\n",
    "plt.boxplot(test.y.to_numpy())\n",
    "plt.suptitle('Testing data')\n",
    "plt.ylabel('y-axis')\n",
    "\n",
    "fig.patch.set_facecolor('#e6e8e6')\n",
    "\n",
    "plt.show()"
   ]
  },
  {
   "cell_type": "markdown",
   "metadata": {},
   "source": [
    "<h3 style='color: #da627d; text-align: center;'> Preprocessing </h3>"
   ]
  },
  {
   "cell_type": "code",
   "execution_count": 290,
   "metadata": {},
   "outputs": [
    {
     "data": {
      "text/html": [
       "<div>\n",
       "<style scoped>\n",
       "    .dataframe tbody tr th:only-of-type {\n",
       "        vertical-align: middle;\n",
       "    }\n",
       "\n",
       "    .dataframe tbody tr th {\n",
       "        vertical-align: top;\n",
       "    }\n",
       "\n",
       "    .dataframe thead th {\n",
       "        text-align: right;\n",
       "    }\n",
       "</style>\n",
       "<table border=\"1\" class=\"dataframe\">\n",
       "  <thead>\n",
       "    <tr style=\"text-align: right;\">\n",
       "      <th></th>\n",
       "      <th>x</th>\n",
       "      <th>y</th>\n",
       "      <th>x_scaled</th>\n",
       "      <th>y_scaled</th>\n",
       "    </tr>\n",
       "  </thead>\n",
       "  <tbody>\n",
       "    <tr>\n",
       "      <th>544</th>\n",
       "      <td>58.0</td>\n",
       "      <td>53.830209</td>\n",
       "      <td>0.016430</td>\n",
       "      <td>0.511662</td>\n",
       "    </tr>\n",
       "    <tr>\n",
       "      <th>363</th>\n",
       "      <td>51.0</td>\n",
       "      <td>51.901420</td>\n",
       "      <td>0.014447</td>\n",
       "      <td>0.494549</td>\n",
       "    </tr>\n",
       "    <tr>\n",
       "      <th>673</th>\n",
       "      <td>10.0</td>\n",
       "      <td>8.938991</td>\n",
       "      <td>0.002833</td>\n",
       "      <td>0.113378</td>\n",
       "    </tr>\n",
       "  </tbody>\n",
       "</table>\n",
       "</div>"
      ],
      "text/plain": [
       "        x          y  x_scaled  y_scaled\n",
       "544  58.0  53.830209  0.016430  0.511662\n",
       "363  51.0  51.901420  0.014447  0.494549\n",
       "673  10.0   8.938991  0.002833  0.113378"
      ]
     },
     "execution_count": 290,
     "metadata": {},
     "output_type": "execute_result"
    }
   ],
   "source": [
    "def minmax_transform(array: list[float], range: tuple[int] = (-1, 1)) -> list:\n",
    "  scaler = MinMaxScaler(feature_range=range)\n",
    "  scaler.fit([[x] for x in array])\n",
    "\n",
    "  output = scaler.transform([[x] for x in array]).reshape(-1)\n",
    "  \n",
    "  return list(output)\n",
    "\n",
    "def minmax_inverse_transform(array: list[float], range: tuple[int] = (-1, 1)) -> list:\n",
    "  scaler = MinMaxScaler(feature_range=range)\n",
    "  scaler.fit([[x] for x in array])\n",
    "\n",
    "  output = scaler.inverse_transform([[x] for x in array]).reshape(-1)\n",
    "  \n",
    "  return list(output)\n",
    "\n",
    "df['x_scaled'] = minmax_transform(df.x.tolist(), (0, 1))\n",
    "df['y_scaled'] = minmax_transform(df.y.tolist(), (0, 1))\n",
    "\n",
    "df.sample(3)"
   ]
  },
  {
   "cell_type": "code",
   "execution_count": 291,
   "metadata": {},
   "outputs": [
    {
     "data": {
      "image/png": "[encoded data removed]",
      "text/plain": [
       "<Figure size 400x350 with 1 Axes>"
      ]
     },
     "metadata": {},
     "output_type": "display_data"
    }
   ],
   "source": [
    "plt.figure(figsize=(4, 3.5))\n",
    "\n",
    "fig = plt.gcf()\n",
    "fig.patch.set_facecolor('#e6e8e6')\n",
    "\n",
    "plt.scatter(df['x_scaled'], df['y_scaled'], color='#31572c', s=1)\n",
    "plt.suptitle('Overall representation')\n",
    "plt.ylabel('y-axis')\n",
    "\n",
    "fig.patch.set_facecolor('#e6e8e6')\n",
    "\n",
    "plt.show()"
   ]
  },
  {
   "cell_type": "code",
   "execution_count": 303,
   "metadata": {},
   "outputs": [
    {
     "name": "stdout",
     "output_type": "stream",
     "text": [
      "Length of X_train: 670\n",
      "Length of y_train: 670\n",
      "Length of X_test: 330\n",
      "Length of y_test: 330\n"
     ]
    }
   ],
   "source": [
    "X = df.x_scaled.tolist()\n",
    "y = df.y_scaled.tolist()\n",
    "\n",
    "X_train, X_test, y_train, y_test = train_test_split(X, y, test_size=0.33, random_state=42)\n",
    "\n",
    "print(f'Length of X_train: {len(X_train)}')\n",
    "print(f'Length of y_train: {len(y_train)}')\n",
    "print(f'Length of X_test: {len(X_test)}')\n",
    "print(f'Length of y_test: {len(y_test)}')"
   ]
  },
  {
   "cell_type": "markdown",
   "metadata": {},
   "source": [
    "<h3 style='color: #da627d; text-align: center;'> Modeling </h3>"
   ]
  },
  {
   "cell_type": "markdown",
   "metadata": {},
   "source": []
  }
 ],
 "metadata": {
  "kernelspec": {
   "display_name": "Python 3 (ipykernel)",
   "language": "python",
   "name": "python3"
  },
  "language_info": {
   "codemirror_mode": {
    "name": "ipython",
    "version": 3
   },
   "file_extension": ".py",
   "mimetype": "text/x-python",
   "name": "python",
   "nbconvert_exporter": "python",
   "pygments_lexer": "ipython3",
   "version": "3.9.16"
  },
  "orig_nbformat": 4
 },
 "nbformat": 4,
 "nbformat_minor": 2
}
